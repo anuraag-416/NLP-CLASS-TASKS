{
 "cells": [
  {
   "cell_type": "code",
   "execution_count": 1,
   "metadata": {},
   "outputs": [],
   "source": [
    "import spacy"
   ]
  },
  {
   "cell_type": "code",
   "execution_count": 2,
   "metadata": {},
   "outputs": [],
   "source": [
    "nlp = spacy.load(\"en_core_web_sm\")"
   ]
  },
  {
   "cell_type": "code",
   "execution_count": 3,
   "metadata": {},
   "outputs": [],
   "source": [
    "text =\"William Shakespeare was born on April 23, 1564, in Stratford-upon-Avon. The son of John Shakespeare and Mary Arden, he was probably educated at the King Edward VI Grammar School in Stratford, where he learned Latin and a little Greek and read the Roman dramatists. At eighteen, he married Anne Hathaway, a woman seven or eight years his senior. Together they raised two daughters: Susanna, who was born in 1583, and Judith (whose twin brother died in boyhood), born in 1585.\""
   ]
  },
  {
   "cell_type": "code",
   "execution_count": 4,
   "metadata": {},
   "outputs": [],
   "source": [
    "doc = nlp(text)"
   ]
  },
  {
   "cell_type": "code",
   "execution_count": 5,
   "metadata": {},
   "outputs": [
    {
     "name": "stdout",
     "output_type": "stream",
     "text": [
      "Noun phrases: ['William Shakespeare', 'April', 'Stratford', 'Avon', 'John Shakespeare', 'Mary Arden', 'he', 'the King Edward VI Grammar School', 'Stratford', 'he', 'Latin', 'a little Greek', 'the Roman dramatists', 'he', 'Anne Hathaway', 'a woman seven or eight years his senior', 'they', 'two daughters', 'Susanna', 'who', 'Judith', 'whose twin brother', 'boyhood']\n",
      "Verbs: ['bear', 'educate', 'learn', 'read', 'marry', 'raise', 'bear', 'die', 'bear']\n"
     ]
    }
   ],
   "source": [
    "print(\"Noun phrases:\", [chunk.text for chunk in doc.noun_chunks])\n",
    "print(\"Verbs:\", [token.lemma_ for token in doc if token.pos_ == \"VERB\"])"
   ]
  },
  {
   "cell_type": "code",
   "execution_count": 6,
   "metadata": {},
   "outputs": [
    {
     "name": "stdout",
     "output_type": "stream",
     "text": [
      "William Shakespeare PERSON\n",
      "April 23, 1564 DATE\n",
      "Stratford GPE\n",
      "John Shakespeare PERSON\n",
      "Mary Arden PERSON\n",
      "the King Edward VI Grammar School ORG\n",
      "Stratford GPE\n",
      "Latin NORP\n",
      "Greek NORP\n",
      "Roman NORP\n",
      "eighteen CARDINAL\n",
      "Anne Hathaway PERSON\n",
      "seven or eight years DATE\n",
      "two CARDINAL\n",
      "Susanna PERSON\n",
      "1583 DATE\n",
      "Judith PERSON\n",
      "1585 DATE\n"
     ]
    }
   ],
   "source": [
    "for entity in doc.ents:\n",
    "    print(entity.text, entity.label_)"
   ]
  },
  {
   "cell_type": "code",
   "execution_count": null,
   "metadata": {},
   "outputs": [],
   "source": []
  }
 ],
 "metadata": {
  "kernelspec": {
   "display_name": "Python 3",
   "language": "python",
   "name": "python3"
  },
  "language_info": {
   "codemirror_mode": {
    "name": "ipython",
    "version": 3
   },
   "file_extension": ".py",
   "mimetype": "text/x-python",
   "name": "python",
   "nbconvert_exporter": "python",
   "pygments_lexer": "ipython3",
   "version": "3.7.6"
  }
 },
 "nbformat": 4,
 "nbformat_minor": 4
}
